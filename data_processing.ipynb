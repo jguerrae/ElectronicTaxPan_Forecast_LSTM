{
 "cells": [
  {
   "cell_type": "code",
   "execution_count": 1,
   "metadata": {},
   "outputs": [],
   "source": [
    "import pandas as pd\n",
    "import glob\n",
    "from tqdm import tqdm\n",
    "import seaborn as sns"
   ]
  },
  {
   "cell_type": "code",
   "execution_count": 2,
   "metadata": {},
   "outputs": [],
   "source": [
    "# bases = glob.glob(\"*.xlsx\")\n",
    "# df = pd.DataFrame()\n",
    "# for base in tqdm(bases):\n",
    "#     b = pd.read_excel(base)\n",
    "#     df = pd.concat([df,b])"
   ]
  },
  {
   "cell_type": "code",
   "execution_count": 8,
   "metadata": {},
   "outputs": [],
   "source": [
    "# df.to_csv(\"0_base_agregada.csv\", index = False)"
   ]
  },
  {
   "cell_type": "code",
   "execution_count": 3,
   "metadata": {},
   "outputs": [],
   "source": [
    "df = pd.read_csv(\"0_base_agregada.csv\")"
   ]
  },
  {
   "cell_type": "code",
   "execution_count": 8,
   "metadata": {},
   "outputs": [],
   "source": []
  },
  {
   "cell_type": "code",
   "execution_count": 4,
   "metadata": {},
   "outputs": [],
   "source": [
    "df[\"FECHA\"] = pd.to_datetime(df[\"FECHA_EMISION\"], format='%Y%m%d') #CONVERTIR A FORMATO FECHA\n",
    "df['WEEK'] = df['FECHA'] - pd.to_timedelta(df['FECHA'].dt.weekday, unit='D') #LUNES DE CADA FECHA (SEMANA)\n",
    "df['MES'] = df['FECHA'].dt.to_period('M').dt.to_timestamp() #MES DE CADA FECHA (MES)"
   ]
  },
  {
   "cell_type": "code",
   "execution_count": 5,
   "metadata": {},
   "outputs": [
    {
     "name": "stderr",
     "output_type": "stream",
     "text": [
      "<ipython-input-5-3837b4fb6f56>:2: FutureWarning: Indexing with multiple keys (implicitly converted to a tuple of keys) will be deprecated, use a list instead.\n",
      "  db1 = df.groupby([\"WEEK\", \"PROVINCIA\", \"ACTIVIDAD_ECONOMICA\"])[\"TOTAL_ITBMS\",\t\"TOTAL_VENTA\", \"CANTIDAD\"].sum().reset_index()\n",
      "<ipython-input-5-3837b4fb6f56>:6: UserWarning: Pandas requires version '1.4.3' or newer of 'xlsxwriter' (version '1.3.7' currently installed).\n",
      "  db1.to_excel(\"1_recaudos_semana_provincio_actividadeconomico.xlsx\", index = False)\n"
     ]
    }
   ],
   "source": [
    "#RECAUDOS POR SEMANA, PROVINCIA ACTIVIDAD ECONÓMICA\n",
    "db1 = df.groupby([\"WEEK\", \"PROVINCIA\", \"ACTIVIDAD_ECONOMICA\"])[\"TOTAL_ITBMS\",\t\"TOTAL_VENTA\", \"CANTIDAD\"].sum().reset_index()\n",
    "db1[\"TOTAL_ITBMS\"] = db1[\"TOTAL_ITBMS\"] /1000000\n",
    "db1[\"TOTAL_VENTA\"] = db1[\"TOTAL_VENTA\"] /1000000\n",
    "db1.head()\n",
    "db1.to_excel(\"1_recaudos_semana_provincio_actividadeconomico.xlsx\", index = False)"
   ]
  },
  {
   "cell_type": "code",
   "execution_count": 11,
   "metadata": {},
   "outputs": [
    {
     "name": "stderr",
     "output_type": "stream",
     "text": [
      "<ipython-input-11-e54dff3c5902>:5: UserWarning: Pandas requires version '1.4.3' or newer of 'xlsxwriter' (version '1.3.7' currently installed).\n",
      "  db2.to_excel(\"2_empresas_x_mes.xlsx\", index = False)\n"
     ]
    }
   ],
   "source": [
    "#NUMERO DE EMPRESAS POR SEMANA\n",
    "db2 = df.groupby([\"MES\", \"RUC\"]).count().reset_index() #NUMERO DE TRANSACCIONES POR SEMANA, NEGOCIO\n",
    "db2 = db2.groupby([\"MES\"])[\"RUC\"].count().reset_index() #NUMERO DE NEGOCIOS DISTINTOS POR SEMANA\n",
    "# db2[\"CHANGE_RUC\"] = db2[\"RUC\"].diff(1)\n",
    "db2.to_excel(\"2_empresas_x_mes.xlsx\", index = False)"
   ]
  },
  {
   "cell_type": "code",
   "execution_count": 14,
   "metadata": {},
   "outputs": [
    {
     "name": "stderr",
     "output_type": "stream",
     "text": [
      "<ipython-input-14-4b278455983d>:3: UserWarning: Pandas requires version '1.4.3' or newer of 'xlsxwriter' (version '1.3.7' currently installed).\n",
      "  db3.to_excel(\"3_itbm_x_semana.xlsx\", index = False)\n"
     ]
    }
   ],
   "source": [
    "#ITBM POR SEMANA\n",
    "db3 = df.groupby([\"WEEK\"])[\"TOTAL_ITBMS\"].sum().reset_index()\n",
    "db3.to_excel(\"3_itbm_x_semana.xlsx\", index = False)"
   ]
  },
  {
   "cell_type": "code",
   "execution_count": 15,
   "metadata": {},
   "outputs": [],
   "source": [
    "#ITBM PER CAPITA\n",
    "db4 = pd.merge(db2, db3, \"inner\", \"WEEK\")\n",
    "db4[\"ITMBPP\"] = db4[\"TOTAL_ITBMS\"]/db4[\"RUC\"]  #ITMBPP\n",
    "db4 = db4.iloc[:-2:] #ELIMINAMOS DOS ULTIMAS SEMANAS\n",
    "\n",
    "#OUTLIERS\n",
    "p95 = db4[\"ITMBPP\"].quantile(0.95)\n",
    "media = db4[\"ITMBPP\"].mean()\n",
    "# db4.loc[db4['ITMBPP'] > p95 , 'ITMBPP'] = media\n",
    "\n",
    "# db4[\"ITMBPP_PCT\"] = db4[\"ITMBPP\"].pct_change() #CAMBIO PORCENTUAL\n",
    "\n",
    "# #OUTLIERS\n",
    "# p95 = db4[\"ITMBPP_PCT\"].quantile(0.95)\n",
    "# media = db4[\"ITMBPP_PCT\"].mean()\n",
    "# db4.loc[db4['ITMBPP_PCT'] > p95 , 'ITMBPP_PCT'] = media\n",
    "\n",
    "# db4.to_excel(\"4_itbmpp_x_semana.xlsx\", index = False)"
   ]
  },
  {
   "cell_type": "code",
   "execution_count": 18,
   "metadata": {},
   "outputs": [
    {
     "data": {
      "text/plain": [
       "90898.35464583324"
      ]
     },
     "execution_count": 18,
     "metadata": {},
     "output_type": "execute_result"
    }
   ],
   "source": [
    "p95"
   ]
  },
  {
   "cell_type": "code",
   "execution_count": 16,
   "metadata": {},
   "outputs": [
    {
     "data": {
      "text/plain": [
       "0.05314009661835749"
      ]
     },
     "execution_count": 16,
     "metadata": {},
     "output_type": "execute_result"
    }
   ],
   "source": [
    "(db4['ITMBPP'] > p95).sum()/len(db4)"
   ]
  }
 ],
 "metadata": {
  "kernelspec": {
   "display_name": "base",
   "language": "python",
   "name": "python3"
  },
  "language_info": {
   "codemirror_mode": {
    "name": "ipython",
    "version": 3
   },
   "file_extension": ".py",
   "mimetype": "text/x-python",
   "name": "python",
   "nbconvert_exporter": "python",
   "pygments_lexer": "ipython3",
   "version": "3.8.5"
  },
  "orig_nbformat": 4
 },
 "nbformat": 4,
 "nbformat_minor": 2
}

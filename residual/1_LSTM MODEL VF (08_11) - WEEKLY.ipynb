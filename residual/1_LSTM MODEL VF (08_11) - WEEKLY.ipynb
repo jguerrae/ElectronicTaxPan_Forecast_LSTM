{
 "cells": [
  {
   "cell_type": "markdown",
   "metadata": {},
   "source": [
    "## 0. Paquetes"
   ]
  },
  {
   "cell_type": "code",
   "execution_count": 1,
   "metadata": {
    "id": "PLSfuU5LuKg_"
   },
   "outputs": [
    {
     "name": "stdout",
     "output_type": "stream",
     "text": [
      "Num GPUs Available:  0\n"
     ]
    }
   ],
   "source": [
    "import numpy as np\n",
    "import pandas as pd\n",
    "import random\n",
    "from pickle import dump\n",
    "import matplotlib.pyplot as plt\n",
    "# from statsmodels.tsa.seasonal import seasonal_decompose\n",
    "from sklearn.preprocessing import MinMaxScaler, StandardScaler\n",
    "from sklearn.model_selection import ParameterGrid\n",
    "import tensorflow as tf\n",
    "import keras\n",
    "from keras.models import Sequential\n",
    "from keras.layers import LSTM, Dense, Flatten, Reshape, Conv1D\n",
    "from keras.preprocessing.sequence import TimeseriesGenerator \n",
    "from sklearn.metrics import mean_squared_error, mean_absolute_error\n",
    "from math import sqrt\n",
    "import seaborn as sns\n",
    "from numpy import array\n",
    "from sklearn.impute import KNNImputer\n",
    "import datetime\n",
    "print(\"Num GPUs Available: \", len(tf.config.experimental.list_physical_devices('GPU')))"
   ]
  },
  {
   "cell_type": "code",
   "execution_count": 2,
   "metadata": {},
   "outputs": [
    {
     "data": {
      "text/plain": [
       "[PhysicalDevice(name='/physical_device:CPU:0', device_type='CPU')]"
      ]
     },
     "execution_count": 2,
     "metadata": {},
     "output_type": "execute_result"
    }
   ],
   "source": [
    "assert tf.test.is_built_with_cuda()\n",
    "tf.config.list_physical_devices()"
   ]
  },
  {
   "cell_type": "code",
   "execution_count": 3,
   "metadata": {},
   "outputs": [],
   "source": [
    "import os\n"
   ]
  },
  {
   "cell_type": "code",
   "execution_count": 4,
   "metadata": {},
   "outputs": [],
   "source": [
    "## FIX RANDOM PARAMETERS\n",
    "\n",
    "seed_value = 1820\n",
    "\n",
    "os.environ['PYTHONHASHSEED']=str(seed_value)\n",
    "\n",
    "# PYTHON GENERATOR\n",
    "import random\n",
    "random.seed(seed_value)\n",
    "\n",
    "# NUMPY\n",
    "np.random.seed(seed_value)\n",
    "\n",
    "# TENSOR FLOW\n",
    "tf.random.set_seed(seed_value)\n",
    "tf.compat.v1.set_random_seed(seed_value)\n",
    "\n",
    "#KERAS\n",
    "tf.keras.utils.set_random_seed(seed_value)"
   ]
  },
  {
   "cell_type": "markdown",
   "metadata": {},
   "source": [
    "## 1. Importar y pre-procesar bases"
   ]
  },
  {
   "cell_type": "code",
   "execution_count": null,
   "metadata": {},
   "outputs": [],
   "source": [
    "# https://gist.github.com/rohithteja/821935e7c3c690bb424ab8e1edc59dec\n",
    "# https://stackoverflow.com/questions/72685216/has-anyone-implemented-a-optuna-hyperparameter-optimization-for-a-pytorch-lstm"
   ]
  },
  {
   "cell_type": "code",
   "execution_count": 10,
   "metadata": {},
   "outputs": [
    {
     "name": "stderr",
     "output_type": "stream",
     "text": [
      "<ipython-input-10-1cba342f0283>:17: SettingWithCopyWarning: \n",
      "A value is trying to be set on a copy of a slice from a DataFrame.\n",
      "Try using .loc[row_indexer,col_indexer] = value instead\n",
      "\n",
      "See the caveats in the documentation: https://pandas.pydata.org/pandas-docs/stable/user_guide/indexing.html#returning-a-view-versus-a-copy\n",
      "  Yu['date_week'] = Yu.index.to_period('W')\n",
      "<ipython-input-10-1cba342f0283>:18: SettingWithCopyWarning: \n",
      "A value is trying to be set on a copy of a slice from a DataFrame.\n",
      "Try using .loc[row_indexer,col_indexer] = value instead\n",
      "\n",
      "See the caveats in the documentation: https://pandas.pydata.org/pandas-docs/stable/user_guide/indexing.html#returning-a-view-versus-a-copy\n",
      "  Yu['date_week'] = Yu['date_week'].apply(lambda x: x.start_time)\n"
     ]
    }
   ],
   "source": [
    "########## Parámetros\n",
    "data_input = \"OUTPUT4_FINALDB.xlsx\"\n",
    "date_column = \"date\"\n",
    "target_id = \"q\"\n",
    "\n",
    "########## Leer dataframe\n",
    "df = pd.read_excel(data_input) \n",
    "df[date_column] = pd.to_datetime(df[date_column])\n",
    "df.set_index(date_column, inplace=True)\n",
    "\n",
    "########## Dataframe univariado para el modelo\n",
    "dYu = df.copy()[[\"q\"]] #\n",
    "dYu = dYu[dYu.q<3224477.37] #ELIMINAR OUTLIERS\n",
    "\n",
    "#SEMANA\n",
    "Yu = dYu.iloc[0:-1] #No teneren cuenta el último dato es un outlier\n",
    "Yu['date_week'] = Yu.index.to_period('W')\n",
    "Yu['date_week'] = Yu['date_week'].apply(lambda x: x.start_time)\n",
    "Yu_d = Yu.copy()\n",
    "number_days = Yu.groupby(\"date_week\").count().reset_index()\n",
    "number_days.set_index(\"date_week\", inplace=True)\n",
    "\n",
    "# number_days.columns = [\"date_week\", \"number_of_days\"]\n",
    "\n",
    "Yu = Yu.groupby(\"date_week\").sum().reset_index()\n",
    "# Yu = pd.merge(Yu, number_days, \"left\", \"date_week\")\n",
    "Yu.set_index(\"date_week\", inplace=True)\n",
    "\n",
    "#NUMERO DE DÍAS DE LA SEMANA + TRAER A NIVELES\n",
    "Q = Yu.iloc[:-1].copy() #DATAFRAME UTIL PARA MÁS TRAER A NIVELES\n",
    "\n",
    "#CAMBIO PORCENTIAL\n",
    "\n",
    "N = Yu.copy()\n",
    "Yu = Yu.pct_change()*100\n",
    "Yu.loc[Yu[Yu.q>200].index[0], \"q\"] = 100\n",
    "Yu = Yu[(number_days.q>6)]\n",
    "# Yu = Yu.iloc[:-1]\n",
    "Yu = Yu.dropna()\n",
    "# Yu = Yu[[\"q\"]]\n"
   ]
  },
  {
   "cell_type": "markdown",
   "metadata": {},
   "source": [
    "## 2. Modelos univariado"
   ]
  },
  {
   "cell_type": "markdown",
   "metadata": {},
   "source": [
    "### 2.1 Split and arrange data"
   ]
  },
  {
   "cell_type": "code",
   "execution_count": 4,
   "metadata": {},
   "outputs": [
    {
     "name": "stdout",
     "output_type": "stream",
     "text": [
      "Observaciones:\n",
      "Total: 180\n",
      "Entrenamiento: 172 (95.6%)\n",
      "Validación: 8 (4.4%)\n",
      "Prueba: 0 (0.0%) \n",
      "\n"
     ]
    },
    {
     "data": {
      "text/plain": [
       "q   -13.750714\n",
       "Name: 2022-05-02 00:00:00, dtype: float64"
      ]
     },
     "execution_count": 4,
     "metadata": {},
     "output_type": "execute_result"
    }
   ],
   "source": [
    "# Parametros generales\n",
    "Yu = Yu[[\"q\"]] # PRESERVE Y\n",
    "train_size  = 0.96  # % TRAIN\n",
    "\n",
    "\n",
    "# Yu = Yu[[\"q\"]].iloc[0:50] # PRESERVE Y\n",
    "# train_size  = 0.80  # % TRAIN\n",
    "\n",
    "\n",
    "# train_size  = 0.8  # % TRAIN\n",
    "val_size    = 1 - train_size  # % VAL\n",
    "n_lag       = 7     # LAGS\n",
    "n_features  = Yu.shape[1]     # FEATURES -> SOLAMENTE UNO\n",
    "MAX_EPOCHS  = 100    # EPOCAS\n",
    "len_batch   = 1  # BATCHSIZE <--PREGUNTAR\n",
    "\n",
    "#### SPLIT DATA\n",
    "n = len(Yu)\n",
    "train = Yu[0:int(n * train_size)] \n",
    "val = Yu[int(n * train_size):int(n*(train_size + val_size))]\n",
    "test = Yu[int(n*(train_size + val_size)):]\n",
    "\n",
    "print(\"Observaciones:\")\n",
    "print(\"Total:\", len(Yu))\n",
    "print(\"Entrenamiento:\", len(train), f\"({round(len(train)/len(Yu)*100,1)}%)\")\n",
    "print(\"Validación:\", len(val), f\"({round(len(val)/len(Yu)*100,1)}%)\")\n",
    "print(\"Prueba:\", len(test), f\"({round(len(test)/len(Yu)*100,1)}%)\", \"\\n\")\n",
    "\n",
    "# ESTANDARIZAR\n",
    "scaler_y = StandardScaler()\n",
    "scaler_y.fit(train)\n",
    "Ys_train = scaler_y.transform(train)\n",
    "Ys_val = scaler_y.transform(val)\n",
    "Ys_all = scaler_y.transform(Yu)\n",
    "\n",
    "\n",
    "# UNIVARIATE SERIE\n",
    "ts_trai_uni = TimeseriesGenerator(Ys_train, Ys_train, length=n_lag, batch_size=len_batch, shuffle= False)\n",
    "ts_vali_uni = TimeseriesGenerator(Ys_val, Ys_val, length=n_lag, batch_size=len_batch, shuffle= False)\n",
    "ts_all_uni = TimeseriesGenerator(Ys_all, Ys_all, length=n_lag, batch_size=len_batch, shuffle= False)\n",
    "\n",
    "# DICT WITH PERFORMANCES\n",
    "vali_performance = {}\n",
    "trai_performance= {}\n",
    "\n",
    "val.iloc[0]"
   ]
  },
  {
   "cell_type": "markdown",
   "metadata": {},
   "source": [
    "### 2.2 Model building"
   ]
  },
  {
   "cell_type": "markdown",
   "metadata": {},
   "source": [
    "#### Primer modelo (-> learnin rate)"
   ]
  },
  {
   "cell_type": "code",
   "execution_count": 6,
   "metadata": {},
   "outputs": [],
   "source": [
    "#### Parametros\n",
    "\n",
    "#Early stop\n",
    "paciencia = 20\n",
    "early_stopping = tf.keras.callbacks.EarlyStopping(monitor='val_loss', patience=paciencia, mode='min') #Early Stop\n",
    "\n",
    "#Model parameters\n",
    "perdida = tf.losses.MeanSquaredError()\n",
    "metrica = [tf.metrics.MeanAbsoluteError(), tf.metrics.MeanAbsolutePercentageError(), tf.losses.MeanSquaredError()]\n",
    "\n",
    "#Optimizer\n",
    "\n",
    "# param_opt = {\n",
    "#     \"learning_rate\": max_lr,\n",
    "#     \"beta_1\" : 0.9,\n",
    "#     \"beta_2\" : 0.999,\n",
    "#     \"epsilon\": 1e-07}\n",
    "\n",
    "optimizer_adam = tf.optimizers.Adam()\n",
    "\n",
    "#### Modelo \n",
    "model = Sequential()\n",
    "model.add(LSTM(64, activation='relu', input_shape=(n_lag, n_features), return_sequences= True))\n",
    "model.add(LSTM(32, activation='relu', input_shape=(n_lag, n_features)))\n",
    "model.add(Dense(30))\n",
    "model.add(Dense(1))\n",
    "\n",
    "model.compile(loss=tf.keras.losses.Huber(), \n",
    "        optimizer=optimizer_adam, \n",
    "        metrics=metrica)\n",
    "\n",
    "\n",
    "#### Parametro a optimizar\n",
    "lr_schedule = tf.keras.callbacks.LearningRateScheduler(lambda epoch: 1e-8 * 20**(epoch / 20))\n",
    "\n",
    "#### Model building\n",
    "history = model.fit(ts_trai_uni, \n",
    "    validation_data = ts_vali_uni,  \n",
    "    epochs=MAX_EPOCHS, \n",
    "    verbose=0,\n",
    "    callbacks = [lr_schedule])"
   ]
  },
  {
   "cell_type": "code",
   "execution_count": 10,
   "metadata": {},
   "outputs": [
    {
     "data": {
      "text/plain": [
       "[<matplotlib.lines.Line2D at 0x2d96e1e8760>]"
      ]
     },
     "execution_count": 10,
     "metadata": {},
     "output_type": "execute_result"
    },
    {
     "data": {
      "image/png": "[encoded data removed]",
      "text/plain": [
       "<Figure size 360x288 with 1 Axes>"
      ]
     },
     "metadata": {
      "needs_background": "light"
     },
     "output_type": "display_data"
    }
   ],
   "source": [
    "#OPTIMUM LEARNING RATE\n",
    "lrs = 1e-8 * (10 ** (np.arange(len(history.history[\"loss\"])) / 20))\n",
    "y_loss = history.history[\"loss\"]\n",
    "index_minimum_loss = y_loss.index(min(y_loss))\n",
    "max_lr = lrs[index_minimum_loss]\n",
    "\n",
    "fig, ax =plt.subplots(1,1, figsize=(5, 4), sharex = False)\n",
    "plt.semilogx(lrs[0:], y_loss[0:])"
   ]
  },
  {
   "cell_type": "markdown",
   "metadata": {},
   "source": [
    "### 2.3 Hiperparametización"
   ]
  },
  {
   "cell_type": "markdown",
   "metadata": {},
   "source": [
    "#### Learning rate + grilla beta1"
   ]
  },
  {
   "cell_type": "code",
   "execution_count": 11,
   "metadata": {},
   "outputs": [],
   "source": [
    "#### Parametros\n",
    "\n",
    "#Early stop\n",
    "paciencia = 20\n",
    "early_stopping = tf.keras.callbacks.EarlyStopping(monitor='val_loss', patience=paciencia, mode='min') #Early Stop\n",
    "\n",
    "#Model parameters\n",
    "perdida = tf.losses.MeanSquaredError()\n",
    "metrica = [tf.metrics.MeanAbsoluteError(), tf.metrics.MeanAbsolutePercentageError(), tf.losses.MeanSquaredError()]\n",
    "\n",
    "#Optimizer\n",
    "\n",
    "optimizer_adam = tf.optimizers.Adam()\n",
    "\n",
    "b1_schedule = [0.2, 0.3, 0.5, 0.6, 0.7, 0.6, 0.7, 0.8, 0.9]\n",
    "\n",
    "b1_score = []\n",
    "\n",
    "for i in b1_schedule:\n",
    "\n",
    "    param_opt = {\n",
    "        \"learning_rate\": max_lr,\n",
    "        \"beta_1\" : i,\n",
    "        \"beta_2\" : 0.999,\n",
    "        \"epsilon\": 1e-07}\n",
    "    #### Modelo \n",
    "    model = Sequential()\n",
    "    model.add(LSTM(64, activation='relu', input_shape=(n_lag, n_features), return_sequences= True))\n",
    "    model.add(LSTM(32, activation='relu', input_shape=(n_lag, n_features)))\n",
    "    model.add(Dense(30))\n",
    "    model.add(Dense(1))\n",
    "\n",
    "    model.compile(loss=tf.keras.losses.Huber(), \n",
    "            optimizer=optimizer_adam, \n",
    "            metrics=metrica)\n",
    "\n",
    "\n",
    "    #### Model building\n",
    "    history = model.fit(ts_trai_uni, \n",
    "        validation_data = ts_vali_uni,  \n",
    "        epochs=MAX_EPOCHS, \n",
    "        verbose=0)\n",
    "\n",
    "    score = scaler_y.inverse_transform(array(model.evaluate(ts_vali_uni, verbose = 0)[1]).reshape(-1,1))\n",
    "    b1_score.append(score)"
   ]
  },
  {
   "cell_type": "code",
   "execution_count": 12,
   "metadata": {},
   "outputs": [
    {
     "data": {
      "text/plain": [
       "[<matplotlib.lines.Line2D at 0x2d975c58640>]"
      ]
     },
     "execution_count": 12,
     "metadata": {},
     "output_type": "execute_result"
    },
    {
     "data": {
      "image/png": "[encoded data removed]",
      "text/plain": [
       "<Figure size 360x288 with 1 Axes>"
      ]
     },
     "metadata": {
      "needs_background": "light"
     },
     "output_type": "display_data"
    }
   ],
   "source": [
    "b1_schedule\n",
    "for i in range(len(b1_score)):\n",
    "    b1_score[i] = b1_score[i][0][0]\n",
    "\n",
    "index_minimum_b1 = b1_score.index(min(b1_score))\n",
    "max_b1 = b1_schedule[index_minimum_b1]\n",
    "\n",
    "fig, ax =plt.subplots(1,1, figsize=(5, 4), sharex = False)\n",
    "plt.semilogx(b1_schedule, b1_score)"
   ]
  },
  {
   "cell_type": "markdown",
   "metadata": {},
   "source": [
    "#### Learning rate + beta1 + grilla beta2"
   ]
  },
  {
   "cell_type": "code",
   "execution_count": 13,
   "metadata": {},
   "outputs": [],
   "source": [
    "#### Parametros\n",
    "\n",
    "#Early stop\n",
    "paciencia = 20\n",
    "early_stopping = tf.keras.callbacks.EarlyStopping(monitor='val_loss', patience=paciencia, mode='min') #Early Stop\n",
    "\n",
    "#Model parameters\n",
    "perdida = tf.losses.MeanSquaredError()\n",
    "metrica = [tf.metrics.MeanAbsoluteError(), tf.metrics.MeanAbsolutePercentageError(), tf.losses.MeanSquaredError()]\n",
    "\n",
    "#Optimizer\n",
    "\n",
    "optimizer_adam = tf.optimizers.Adam()\n",
    "\n",
    "b2_schedule = [0.6, 0.7, 0.8, 0.9, 0.99, 0.999, 0.9999]\n",
    "\n",
    "b2_score = []\n",
    "\n",
    "for i in b2_schedule:\n",
    "\n",
    "    param_opt = {\n",
    "        \"learning_rate\": max_lr,\n",
    "        \"beta_1\" : max_b1,\n",
    "        \"beta_2\" : i,\n",
    "        \"epsilon\": 1e-07}\n",
    "    #### Modelo \n",
    "    model = Sequential()\n",
    "    model.add(LSTM(64, activation='relu', input_shape=(n_lag, n_features), return_sequences= True))\n",
    "    model.add(LSTM(32, activation='relu', input_shape=(n_lag, n_features)))\n",
    "    model.add(Dense(30))\n",
    "    model.add(Dense(1))\n",
    "\n",
    "    model.compile(loss=tf.keras.losses.Huber(), \n",
    "            optimizer=optimizer_adam, \n",
    "            metrics=metrica)\n",
    "\n",
    "\n",
    "    #### Model building\n",
    "    history = model.fit(ts_trai_uni, \n",
    "        validation_data = ts_vali_uni,  \n",
    "        epochs=MAX_EPOCHS, \n",
    "        verbose=0)\n",
    "\n",
    "    score = scaler_y.inverse_transform(array(model.evaluate(ts_vali_uni, verbose = 0)[1]).reshape(-1,1))\n",
    "    b2_score.append(score)"
   ]
  },
  {
   "cell_type": "code",
   "execution_count": 14,
   "metadata": {},
   "outputs": [
    {
     "data": {
      "text/plain": [
       "[<matplotlib.lines.Line2D at 0x2d972793070>]"
      ]
     },
     "execution_count": 14,
     "metadata": {},
     "output_type": "execute_result"
    },
    {
     "data": {
      "image/png": "[encoded data removed]",
      "text/plain": [
       "<Figure size 360x288 with 1 Axes>"
      ]
     },
     "metadata": {
      "needs_background": "light"
     },
     "output_type": "display_data"
    }
   ],
   "source": [
    "b2_schedule\n",
    "for i in range(len(b2_score)):\n",
    "    b2_score[i] = b2_score[i][0][0]\n",
    "\n",
    "index_minimum_b2 = b2_score.index(min(b2_score))\n",
    "max_b2 = b2_schedule[index_minimum_b2]\n",
    "\n",
    "fig, ax =plt.subplots(1,1, figsize=(5, 4), sharex = False)\n",
    "plt.semilogx(b2_schedule, b2_score)"
   ]
  },
  {
   "cell_type": "markdown",
   "metadata": {},
   "source": [
    "#### Learning rate + beta1 + beta2 + grilla epsilon"
   ]
  },
  {
   "cell_type": "code",
   "execution_count": 15,
   "metadata": {},
   "outputs": [],
   "source": [
    "#### Parametros\n",
    "\n",
    "#Early stop\n",
    "paciencia = 20\n",
    "early_stopping = tf.keras.callbacks.EarlyStopping(monitor='val_loss', patience=paciencia, mode='min') #Early Stop\n",
    "\n",
    "#Model parameters\n",
    "perdida = tf.losses.MeanSquaredError()\n",
    "metrica = [tf.metrics.MeanAbsoluteError(), tf.metrics.MeanAbsolutePercentageError(), tf.losses.MeanSquaredError()]\n",
    "\n",
    "#Optimizer\n",
    "\n",
    "optimizer_adam = tf.optimizers.Adam()\n",
    "\n",
    "# e_schedule = [1e-001, 1e-01, 1e-02, 1e-03, 1e-04, 1e-05, 1e-06, 1e-07, 1e-08]\n",
    "e_schedule = [1e-04, 1e-05, 1e-06, 1e-07, 1e-08]\n",
    "\n",
    "e_score = []\n",
    "\n",
    "for i in e_schedule:\n",
    "\n",
    "    param_opt = {\n",
    "        \"learning_rate\": max_lr,\n",
    "        \"beta_1\" : max_b1,\n",
    "        \"beta_2\" : max_b2,\n",
    "        \"epsilon\": 1e-07}\n",
    "    #### Modelo \n",
    "    model = Sequential()\n",
    "    model.add(LSTM(64, activation='relu', input_shape=(n_lag, n_features), return_sequences= True))\n",
    "    model.add(LSTM(32, activation='relu', input_shape=(n_lag, n_features)))\n",
    "    model.add(Dense(30))\n",
    "    model.add(Dense(1))\n",
    "\n",
    "    model.compile(loss=tf.keras.losses.Huber(), \n",
    "            optimizer=optimizer_adam, \n",
    "            metrics=metrica)\n",
    "\n",
    "\n",
    "    #### Model building\n",
    "    history = model.fit(ts_trai_uni, \n",
    "        validation_data = ts_vali_uni,  \n",
    "        epochs=MAX_EPOCHS, \n",
    "        verbose=0)\n",
    "\n",
    "    score = scaler_y.inverse_transform(array(model.evaluate(ts_vali_uni, verbose = 0)[1]).reshape(-1,1))\n",
    "    e_score.append(score)"
   ]
  },
  {
   "cell_type": "code",
   "execution_count": 16,
   "metadata": {},
   "outputs": [
    {
     "data": {
      "text/plain": [
       "[<matplotlib.lines.Line2D at 0x2d97fe234f0>]"
      ]
     },
     "execution_count": 16,
     "metadata": {},
     "output_type": "execute_result"
    },
    {
     "data": {
      "image/png": "[encoded data removed]",
      "text/plain": [
       "<Figure size 360x288 with 1 Axes>"
      ]
     },
     "metadata": {
      "needs_background": "light"
     },
     "output_type": "display_data"
    }
   ],
   "source": [
    "e_schedule\n",
    "for i in range(len(e_score)):\n",
    "    e_score[i] = e_score[i][0][0]\n",
    "\n",
    "index_minimum_e = e_score.index(min(e_score))\n",
    "max_e = e_schedule[index_minimum_e]\n",
    "\n",
    "fig, ax =plt.subplots(1,1, figsize=(5, 4), sharex = False)\n",
    "plt.semilogx(e_schedule, e_score)"
   ]
  },
  {
   "cell_type": "markdown",
   "metadata": {},
   "source": [
    "#### Modelo óptimo"
   ]
  },
  {
   "cell_type": "code",
   "execution_count": 5,
   "metadata": {},
   "outputs": [],
   "source": [
    "max_lr, max_b1, max_b2, max_e = 0.00022387211385683378, 0.9, 0.9999, 1e-07"
   ]
  },
  {
   "cell_type": "code",
   "execution_count": null,
   "metadata": {},
   "outputs": [],
   "source": [
    "seed_value = 1820\n",
    "\n",
    "os.environ['PYTHONHASHSEED']=str(seed_value)\n",
    "\n",
    "# PYTHON GENERATOR\n",
    "import random\n",
    "random.seed(seed_value)\n",
    "\n",
    "# NUMPY\n",
    "np.random.seed(seed_value)\n",
    "\n",
    "# TENSOR FLOW\n",
    "tf.random.set_seed(seed_value)\n",
    "tf.compat.v1.set_random_seed(seed_value)\n",
    "\n",
    "#KERAS\n",
    "tf.keras.utils.set_random_seed(seed_value)"
   ]
  },
  {
   "cell_type": "code",
   "execution_count": 7,
   "metadata": {},
   "outputs": [],
   "source": [
    "import os"
   ]
  },
  {
   "cell_type": "code",
   "execution_count": 8,
   "metadata": {},
   "outputs": [],
   "source": [
    "#### Parametros\n",
    "\n",
    "tf.random.set_seed(2)\n",
    "os.environ['PYTHONHASHSEED']=str(2)\n",
    "tf.keras.utils.set_random_seed(2)\n",
    "\n",
    "#Early stop\n",
    "paciencia = 20\n",
    "early_stopping = tf.keras.callbacks.EarlyStopping(monitor='val_loss', patience=paciencia, mode='min') #Early Stop\n",
    "\n",
    "#Model parameters\n",
    "perdida = tf.losses.MeanSquaredError()\n",
    "metrica = [tf.metrics.MeanAbsoluteError(), tf.metrics.MeanAbsolutePercentageError(), tf.losses.MeanSquaredError()]\n",
    "\n",
    "#Optimizer\n",
    "\n",
    "param_opt = {\n",
    "    \"learning_rate\": max_lr,\n",
    "    \"beta_1\" : max_b1,\n",
    "    \"beta_2\" : max_b2,\n",
    "    \"epsilon\": max_e}\n",
    "\n",
    "optimizer_adam = tf.optimizers.Adam()\n",
    "\n",
    "#### Modelo \n",
    "model = Sequential()\n",
    "model.add(LSTM(64, activation='relu', input_shape=(n_lag, n_features), return_sequences= True))\n",
    "model.add(LSTM(32, activation='relu', input_shape=(n_lag, n_features)))\n",
    "model.add(Dense(30))\n",
    "model.add(Dense(1))\n",
    "\n",
    "model.compile(loss=tf.keras.losses.Huber(), \n",
    "        optimizer=optimizer_adam, \n",
    "        metrics=metrica)\n",
    "\n",
    "\n",
    "#### Model building\n",
    "history = model.fit(ts_trai_uni, \n",
    "    validation_data = ts_vali_uni,  \n",
    "    epochs=MAX_EPOCHS, \n",
    "    verbose=0,\n",
    "    callbacks = [])"
   ]
  },
  {
   "cell_type": "markdown",
   "metadata": {},
   "source": [
    "## 3. Desempeño modelo"
   ]
  },
  {
   "cell_type": "markdown",
   "metadata": {},
   "source": [
    "#### 3.1 Prediccion 1-paso y n-pasos fuera de entrenamiento"
   ]
  },
  {
   "cell_type": "code",
   "execution_count": 9,
   "metadata": {},
   "outputs": [
    {
     "name": "stdout",
     "output_type": "stream",
     "text": [
      "{'UNIV': array([[16.30785579]])} {'UNIV': array([[13.01606082]])}\n"
     ]
    }
   ],
   "source": [
    "# PREDICCIÓN N (TRAIN) PASOS\n",
    "\n",
    "trai_performance[\"UNIV\"] = scaler_y.inverse_transform(array(model.evaluate(ts_trai_uni, verbose = 0)[1]).reshape(-1,1))\n",
    "vali_performance[\"UNIV\"] = scaler_y.inverse_transform(array(model.evaluate(ts_vali_uni, verbose = 0)[1]).reshape(-1,1))\n",
    "# PRIMER OUTPUT: LOSS (MSE) | # SEGUNDO OUTPUT: MAE | # PRIMER OUTPUT: MAE PERCENTAGE | # SEGUNDO OUTPUT: LOSS (MSE)\n",
    "print(trai_performance, vali_performance)\n",
    "\n",
    "\n",
    "# PREDICCIÓN\n",
    "X_ini = Ys_all[-(len(Ys_val) + n_lag): ][:n_lag] #CREAR ARREGLO DE LOS (N_LAGS) VALORES PREVIOS \n",
    "X_ini = X_ini.reshape(n_features, n_lag, n_features)\n",
    "\n",
    "for i in range(len(Ys_val)):\n",
    "    Y_pred = model.predict(X_ini[:, i : n_lag+i+1, :], verbose=0)\n",
    "    X_ini = np.append(X_ini, Y_pred).reshape(n_features, len(X_ini[0])+1, n_features)\n",
    "\n",
    "X_ini = X_ini[0][n_lag:]\n",
    "\n",
    "pred_p = X_ini.copy()\n",
    "\n",
    "pred_p = scaler_y.inverse_transform(pred_p)\n",
    "b = np.empty((len(Ys_train),1,))\n",
    "b[:] = np.nan\n",
    "pred_p = np.concatenate((b, pred_p), axis = 0)\n",
    "pred_p = pred_p.reshape(-1)\n",
    "\n",
    "#PREDICCIÓN EN ALL\n",
    "yhat_all = model.predict(ts_all_uni, verbose=0)\n",
    "yhat_all_level = scaler_y.inverse_transform(yhat_all)\n",
    "\n",
    "a = np.empty((n_lag,1,))\n",
    "a[:] = np.nan\n",
    "\n",
    "# OBSERVADO EN ALL\n",
    "yhat_all_level = np.concatenate((a, yhat_all_level),axis = 0)\n",
    "yobs_test_level = scaler_y.inverse_transform(Ys_all)\n",
    "\n",
    "# DATAFRAME\n",
    "preds = pd.DataFrame(zip( yobs_test_level.reshape(len(yobs_test_level)), yhat_all_level.reshape(len(yhat_all_level)), pred_p),\n",
    "            index = Yu.index,\n",
    "            columns = [\"OBSERVADO\", \"PREDICHO_ONESTEP\", \"PREDICHO_PRED\"])"
   ]
  },
  {
   "cell_type": "code",
   "execution_count": null,
   "metadata": {},
   "outputs": [],
   "source": [
    "{'UNIV': array([[16.30785579]])} {'UNIV': array([[13.01606082]])}"
   ]
  },
  {
   "cell_type": "markdown",
   "metadata": {},
   "source": [
    "¿Cómo luce?"
   ]
  },
  {
   "cell_type": "code",
   "execution_count": 60,
   "metadata": {},
   "outputs": [
    {
     "name": "stderr",
     "output_type": "stream",
     "text": [
      "<ipython-input-60-c8bff040392d>:23: UserWarning: Matplotlib is currently using module://ipykernel.pylab.backend_inline, which is a non-GUI backend, so cannot show the figure.\n",
      "  fig.show()\n"
     ]
    },
    {
     "data": {
      "image/png": "[encoded data removed]",
      "text/plain": [
       "<Figure size 1080x720 with 2 Axes>"
      ]
     },
     "metadata": {
      "needs_background": "light"
     },
     "output_type": "display_data"
    }
   ],
   "source": [
    "# VISUALIZAR\n",
    "fig, ax =plt.subplots(2,1, figsize=(15, 10), sharex = False)\n",
    "\n",
    "#PRIMERA GRÁFICA\n",
    "sns.lineplot(x=preds.index, y=preds.OBSERVADO, ax = ax[0])\n",
    "sns.lineplot(x=preds.index, y=preds.PREDICHO_ONESTEP, color = \"gray\", ax = ax[0])\n",
    "sns.lineplot(x=preds.index, y=preds.PREDICHO_PRED, color = \"blue\", ax = ax[0])\n",
    "\n",
    "ax[0].axvline(x=preds.index[int(n * train_size)], color='red')\n",
    "ax[0].legend(labels=['Obs', 'Pred-one-step', 'Pred-n-step'], prop={'size': 8})\n",
    "# ax[0].axis(ymin= 20015.12, ymax= 970278.39)\n",
    "\n",
    "\n",
    "#SEGUNDA GRÁFICA\n",
    "sns.lineplot(x=preds.index[int(n * train_size):][0:30], y=preds.OBSERVADO[int(n * train_size):][0:30], ax = ax[1])\n",
    "sns.lineplot(x=preds.index[int(n * train_size):][0:30], y=preds.PREDICHO_ONESTEP[int(n * train_size):][0:30], color = \"gray\", ax = ax[1])\n",
    "sns.lineplot(x=preds.index[int(n * train_size):][0:30], y=preds.PREDICHO_PRED[int(n * train_size):][0:30], color = \"blue\", ax = ax[1])\n",
    "\n",
    "ax[1].legend(labels=['Obs', 'Pred-one-step', 'Pred-n-step'], prop={'size': 8})\n",
    "# ax[1].axis(ymin= 320015.12, ymax= 970278.39)\n",
    "\n",
    "\n",
    "fig.show()"
   ]
  },
  {
   "cell_type": "code",
   "execution_count": 52,
   "metadata": {},
   "outputs": [],
   "source": [
    "from tensorflow.keras.models import load_model"
   ]
  },
  {
   "cell_type": "code",
   "execution_count": 5,
   "metadata": {},
   "outputs": [],
   "source": [
    "from tensorflow.keras.models import load_model\n",
    "import joblib"
   ]
  },
  {
   "cell_type": "code",
   "execution_count": 6,
   "metadata": {},
   "outputs": [],
   "source": []
  },
  {
   "cell_type": "code",
   "execution_count": 65,
   "metadata": {},
   "outputs": [],
   "source": [
    "# Serialize the model to JSON\n",
    "model_json = model.to_json()\n",
    "with open(\"MODELO/modelVF.json\", \"w\") as json_file:\n",
    "    json_file.write(model_json)\n",
    "    \n",
    "# Serialize weights to HDF5\n",
    "model.save_weights(\"MODELO/modelW_VF.h5\")\n",
    "model.save(\"MODELO/modelVF.h5\")\n",
    "\n",
    "# Save the scalar used in train to a pickle file\n",
    "# dump(scaler_y, open(\"MODELO/scalerVF.pkl\", \"wb\"))\n",
    "joblib.dump(scaler_y, \"MODELO/scalerVF.gz\")\n",
    "\n",
    "\n",
    "# Save model helpers for prediction\n",
    "model_helpers = {\n",
    "    \"n_inputs\": n_features\n",
    "}\n",
    "dump(model_helpers, open(\"MODELO/model_helpersVF.pkl\", \"wb\"))"
   ]
  },
  {
   "cell_type": "code",
   "execution_count": 7,
   "metadata": {},
   "outputs": [],
   "source": [
    "\n",
    "my_scaler = joblib.load(\"MODELO/modelo_02_07_2023/scalerVF.gz\") #SCALER\n",
    "model_load = load_model(\"MODELO/modelo_02_07_2023/modelVF.h5\", compile=False) #MODELO\n",
    "lags = model_load.input_shape[1]"
   ]
  },
  {
   "cell_type": "code",
   "execution_count": 51,
   "metadata": {},
   "outputs": [],
   "source": [
    "N.to_excel(\"DATA.xlsx\")"
   ]
  },
  {
   "cell_type": "code",
   "execution_count": 49,
   "metadata": {},
   "outputs": [],
   "source": [
    "def pred(df, model, scalerm, periodos_pred = 8):\n",
    "\n",
    "    \"\"\"\n",
    "    Forecast recursive prediction using Keras model. \n",
    "    \n",
    "    Parameters\n",
    "    ---------------\n",
    "    df: Dataframe object of observed values with index as date and one column with data.\n",
    "    model: Pretrained model used for predition.\n",
    "    scalerm: Scaler used during training.\n",
    "    periodos_pred: number periods (weeks) a predecir\n",
    "    \"\"\"\n",
    "\n",
    "    pronostico_niveles = [df.iloc[-1][0]]\n",
    "    \n",
    "    #Pre-procesamiento de los datos\n",
    "    lags = model.input_shape[1] #numero_lags\n",
    "    df = df.pct_change()*100\n",
    "    df = df.dropna()\n",
    "    Ys_all = scalerm.transform(df) #transformar la serie\n",
    "\n",
    "    #Reshap de la serie para la lectura del modeo\n",
    "    Y_ph = Ys_all[-lags:] \n",
    "    Y_ph = Y_ph.reshape(1, lags, 1)\n",
    "\n",
    "    #Rango de fechas (semanas)\n",
    "    week_1 = df.index[-1] + datetime.timedelta(days=7)\n",
    "    week_f = week_1 + datetime.timedelta(weeks=periodos_pred)\n",
    "    range_date = pd.date_range(start= week_1, end= week_f, freq = \"W-MON\")\n",
    "\n",
    "    #Predicción\n",
    "    for i in range(len(range_date)):\n",
    "        Y_pred = model.predict(Y_ph[:, i : lags+i+1, :], verbose=0)\n",
    "        Y_ph = np.append(Y_ph, Y_pred).reshape(1, len(Y_ph[0])+1, 1)\n",
    "\n",
    "    #Re-escalar (traer a cambios porcentuales)\n",
    "    Y_ph = scalerm.inverse_transform(Y_ph[0][lags:])\n",
    "    pronostico_variacion = Y_ph.reshape(len(Y_ph))\n",
    "    \n",
    "\n",
    "    #Traer a niveles\n",
    "    for i in range(len(pronostico_variacion)):\n",
    "        ynsetp = (pronostico_variacion[i]/100 + 1)*pronostico_niveles[i]\n",
    "        pronostico_niveles.append(ynsetp)\n",
    "\n",
    "    #Predicciones y eje (fecha)\n",
    "    predictions = pronostico_niveles[1:]\n",
    "    prediction_xaxis = []\n",
    "\n",
    "    for i in range(len(range_date)):\n",
    "        k = str(range_date[i])[0:10]\n",
    "        prediction_xaxis.append(k)\n",
    "        \n",
    "\n",
    "    return dict(zip(prediction_xaxis, list(predictions)))\n",
    "    # return predictions"
   ]
  },
  {
   "cell_type": "code",
   "execution_count": 50,
   "metadata": {},
   "outputs": [
    {
     "data": {
      "text/plain": [
       "{'2022-07-04': 2718431.1667368226,\n",
       " '2022-07-11': 3065748.1827294766,\n",
       " '2022-07-18': 3835992.6069952906,\n",
       " '2022-07-25': 4369671.107698244,\n",
       " '2022-08-01': 4120437.339360842,\n",
       " '2022-08-08': 4718506.680280455,\n",
       " '2022-08-15': 5265300.527722773,\n",
       " '2022-08-22': 4135935.5788519867,\n",
       " '2022-08-29': 3619882.3412898565,\n",
       " '2022-09-05': 3518691.99291399,\n",
       " '2022-09-12': 3610188.737644151,\n",
       " '2022-09-19': 3815467.3893147414,\n",
       " '2022-09-26': 3405134.7279803636,\n",
       " '2022-10-03': 3331087.890696185,\n",
       " '2022-10-10': 3461955.5794732715,\n",
       " '2022-10-17': 3489598.212587595,\n",
       " '2022-10-24': 3523227.2323069656,\n",
       " '2022-10-31': 3501232.5172194648,\n",
       " '2022-11-07': 3394529.8905864167,\n",
       " '2022-11-14': 3450824.3591633667,\n",
       " '2022-11-21': 3551472.531185982,\n",
       " '2022-11-28': 3527770.779762879,\n",
       " '2022-12-05': 3604278.0496848053,\n",
       " '2022-12-12': 3670085.941430613,\n",
       " '2022-12-19': 3716727.9067319725,\n",
       " '2022-12-26': 3775869.2814459493,\n",
       " '2023-01-02': 3884284.2538373084,\n",
       " '2023-01-09': 3908422.017818364,\n",
       " '2023-01-16': 4007498.8903462226,\n",
       " '2023-01-23': 4100505.0071242093,\n",
       " '2023-01-30': 4194994.35130111}"
      ]
     },
     "execution_count": 50,
     "metadata": {},
     "output_type": "execute_result"
    }
   ],
   "source": [
    "pred(N, model_load, my_scaler, periodos_pred = 30)"
   ]
  },
  {
   "cell_type": "code",
   "execution_count": null,
   "metadata": {},
   "outputs": [],
   "source": []
  },
  {
   "cell_type": "markdown",
   "metadata": {},
   "source": []
  },
  {
   "cell_type": "markdown",
   "metadata": {},
   "source": [
    "#### 3.2 Predicción por semana en niveles, dentro y fuera de muestra"
   ]
  },
  {
   "cell_type": "code",
   "execution_count": 75,
   "metadata": {},
   "outputs": [],
   "source": [
    "Y_ph = Ys_all[-n_lag:] #FOOD INICIAL\n",
    "Y_ph = Y_ph.reshape(n_features, n_lag, n_features)\n",
    "\n",
    "#SEMANA A PREDECIR ADELANTE\n",
    "week_1 = Yu.index[-1] + datetime.timedelta(days=7)\n",
    "# week_1 = '2022-06-27'\n",
    "week_f = '2023-01-02'\n",
    "range_date = pd.date_range(start= week_1, end= week_f, freq = \"W-MON\")\n",
    "\n",
    "\n",
    "\n",
    "for i in range(len(range_date)):\n",
    "    Y_pred = model_load.predict(Y_ph[:, i : n_lag+i+1, :], verbose=0)\n",
    "    Y_ph = np.append(Y_ph, Y_pred).reshape(n_features, len(Y_ph[0])+1, n_features)\n",
    "\n",
    "Y_ph = Y_ph[0][n_lag:]\n",
    "\n",
    "pred_yph = pd.DataFrame(scaler_y.inverse_transform(Y_ph), columns = [\"FUERA_MUESTRA\"], index = range_date)"
   ]
  },
  {
   "cell_type": "code",
   "execution_count": 77,
   "metadata": {},
   "outputs": [],
   "source": [
    "H = Q.copy()\n",
    "H.columns = [\"NIVELES\"]\n",
    "\n",
    "PREDICCIONES = pd.concat([H, preds, pred_yph], axis=1)\n",
    "PREDICCIONES[\"NIVELES_1\"] = PREDICCIONES[\"NIVELES\"].shift(1)\n",
    "\n",
    "\n",
    "PREDICCIONES[\"ONE_STEP_LEVELS\"]  = PREDICCIONES[\"NIVELES_1\"] * (1 + (PREDICCIONES[\"PREDICHO_ONESTEP\"]/100))\n",
    "PREDICCIONES[\"N_STEP_LEVELS\"]  = PREDICCIONES[\"NIVELES_1\"] * (1 + (PREDICCIONES[\"PREDICHO_PRED\"]/100))\n",
    "\n",
    "PREDICCIONES[\"FUERA_MUESTRA_LEVELS\"] = PREDICCIONES[\"NIVELES\"]\n",
    "rango_fuera = range((len(PREDICCIONES) - len(range_date)), len(PREDICCIONES)) \n",
    "for i in rango_fuera:\n",
    "    PREDICCIONES.iloc[i, -1] = PREDICCIONES.iloc[i-1, -1] * (1+PREDICCIONES.iloc[i, 4]/100)"
   ]
  },
  {
   "cell_type": "code",
   "execution_count": 78,
   "metadata": {},
   "outputs": [],
   "source": [
    "PREDICCIONES.loc[PREDICCIONES[PREDICCIONES.NIVELES>0].index, \"FUERA_MUESTRA_LEVELS\"] = np.nan"
   ]
  },
  {
   "cell_type": "code",
   "execution_count": 79,
   "metadata": {},
   "outputs": [
    {
     "data": {
      "text/html": [
       "<div>\n",
       "<style scoped>\n",
       "    .dataframe tbody tr th:only-of-type {\n",
       "        vertical-align: middle;\n",
       "    }\n",
       "\n",
       "    .dataframe tbody tr th {\n",
       "        vertical-align: top;\n",
       "    }\n",
       "\n",
       "    .dataframe thead th {\n",
       "        text-align: right;\n",
       "    }\n",
       "</style>\n",
       "<table border=\"1\" class=\"dataframe\">\n",
       "  <thead>\n",
       "    <tr style=\"text-align: right;\">\n",
       "      <th></th>\n",
       "      <th>NIVELES</th>\n",
       "      <th>OBSERVADO</th>\n",
       "      <th>PREDICHO_ONESTEP</th>\n",
       "      <th>PREDICHO_PRED</th>\n",
       "      <th>FUERA_MUESTRA</th>\n",
       "      <th>NIVELES_1</th>\n",
       "      <th>ONE_STEP_LEVELS</th>\n",
       "      <th>N_STEP_LEVELS</th>\n",
       "      <th>FUERA_MUESTRA_LEVELS</th>\n",
       "    </tr>\n",
       "  </thead>\n",
       "  <tbody>\n",
       "    <tr>\n",
       "      <th>2018-12-31</th>\n",
       "      <td>114975.98</td>\n",
       "      <td>NaN</td>\n",
       "      <td>NaN</td>\n",
       "      <td>NaN</td>\n",
       "      <td>NaN</td>\n",
       "      <td>NaN</td>\n",
       "      <td>NaN</td>\n",
       "      <td>NaN</td>\n",
       "      <td>NaN</td>\n",
       "    </tr>\n",
       "    <tr>\n",
       "      <th>2019-01-07</th>\n",
       "      <td>245382.83</td>\n",
       "      <td>113.420951</td>\n",
       "      <td>NaN</td>\n",
       "      <td>NaN</td>\n",
       "      <td>NaN</td>\n",
       "      <td>114975.98</td>\n",
       "      <td>NaN</td>\n",
       "      <td>NaN</td>\n",
       "      <td>NaN</td>\n",
       "    </tr>\n",
       "    <tr>\n",
       "      <th>2019-01-14</th>\n",
       "      <td>282671.93</td>\n",
       "      <td>15.196296</td>\n",
       "      <td>NaN</td>\n",
       "      <td>NaN</td>\n",
       "      <td>NaN</td>\n",
       "      <td>245382.83</td>\n",
       "      <td>NaN</td>\n",
       "      <td>NaN</td>\n",
       "      <td>NaN</td>\n",
       "    </tr>\n",
       "    <tr>\n",
       "      <th>2019-01-21</th>\n",
       "      <td>314060.29</td>\n",
       "      <td>11.104166</td>\n",
       "      <td>NaN</td>\n",
       "      <td>NaN</td>\n",
       "      <td>NaN</td>\n",
       "      <td>282671.93</td>\n",
       "      <td>NaN</td>\n",
       "      <td>NaN</td>\n",
       "      <td>NaN</td>\n",
       "    </tr>\n",
       "    <tr>\n",
       "      <th>2019-01-28</th>\n",
       "      <td>378816.41</td>\n",
       "      <td>20.619009</td>\n",
       "      <td>NaN</td>\n",
       "      <td>NaN</td>\n",
       "      <td>NaN</td>\n",
       "      <td>314060.29</td>\n",
       "      <td>NaN</td>\n",
       "      <td>NaN</td>\n",
       "      <td>NaN</td>\n",
       "    </tr>\n",
       "    <tr>\n",
       "      <th>...</th>\n",
       "      <td>...</td>\n",
       "      <td>...</td>\n",
       "      <td>...</td>\n",
       "      <td>...</td>\n",
       "      <td>...</td>\n",
       "      <td>...</td>\n",
       "      <td>...</td>\n",
       "      <td>...</td>\n",
       "      <td>...</td>\n",
       "    </tr>\n",
       "    <tr>\n",
       "      <th>2022-12-05</th>\n",
       "      <td>NaN</td>\n",
       "      <td>NaN</td>\n",
       "      <td>NaN</td>\n",
       "      <td>NaN</td>\n",
       "      <td>-5.862140</td>\n",
       "      <td>NaN</td>\n",
       "      <td>NaN</td>\n",
       "      <td>NaN</td>\n",
       "      <td>6.140309e+06</td>\n",
       "    </tr>\n",
       "    <tr>\n",
       "      <th>2022-12-12</th>\n",
       "      <td>NaN</td>\n",
       "      <td>NaN</td>\n",
       "      <td>NaN</td>\n",
       "      <td>NaN</td>\n",
       "      <td>-0.782998</td>\n",
       "      <td>NaN</td>\n",
       "      <td>NaN</td>\n",
       "      <td>NaN</td>\n",
       "      <td>6.092230e+06</td>\n",
       "    </tr>\n",
       "    <tr>\n",
       "      <th>2022-12-19</th>\n",
       "      <td>NaN</td>\n",
       "      <td>NaN</td>\n",
       "      <td>NaN</td>\n",
       "      <td>NaN</td>\n",
       "      <td>2.266350</td>\n",
       "      <td>NaN</td>\n",
       "      <td>NaN</td>\n",
       "      <td>NaN</td>\n",
       "      <td>6.230302e+06</td>\n",
       "    </tr>\n",
       "    <tr>\n",
       "      <th>2022-12-26</th>\n",
       "      <td>NaN</td>\n",
       "      <td>NaN</td>\n",
       "      <td>NaN</td>\n",
       "      <td>NaN</td>\n",
       "      <td>1.950228</td>\n",
       "      <td>NaN</td>\n",
       "      <td>NaN</td>\n",
       "      <td>NaN</td>\n",
       "      <td>6.351807e+06</td>\n",
       "    </tr>\n",
       "    <tr>\n",
       "      <th>2023-01-02</th>\n",
       "      <td>NaN</td>\n",
       "      <td>NaN</td>\n",
       "      <td>NaN</td>\n",
       "      <td>NaN</td>\n",
       "      <td>-1.768203</td>\n",
       "      <td>NaN</td>\n",
       "      <td>NaN</td>\n",
       "      <td>NaN</td>\n",
       "      <td>6.239494e+06</td>\n",
       "    </tr>\n",
       "  </tbody>\n",
       "</table>\n",
       "<p>210 rows × 9 columns</p>\n",
       "</div>"
      ],
      "text/plain": [
       "              NIVELES   OBSERVADO  PREDICHO_ONESTEP  PREDICHO_PRED  \\\n",
       "2018-12-31  114975.98         NaN               NaN            NaN   \n",
       "2019-01-07  245382.83  113.420951               NaN            NaN   \n",
       "2019-01-14  282671.93   15.196296               NaN            NaN   \n",
       "2019-01-21  314060.29   11.104166               NaN            NaN   \n",
       "2019-01-28  378816.41   20.619009               NaN            NaN   \n",
       "...               ...         ...               ...            ...   \n",
       "2022-12-05        NaN         NaN               NaN            NaN   \n",
       "2022-12-12        NaN         NaN               NaN            NaN   \n",
       "2022-12-19        NaN         NaN               NaN            NaN   \n",
       "2022-12-26        NaN         NaN               NaN            NaN   \n",
       "2023-01-02        NaN         NaN               NaN            NaN   \n",
       "\n",
       "            FUERA_MUESTRA  NIVELES_1  ONE_STEP_LEVELS  N_STEP_LEVELS  \\\n",
       "2018-12-31            NaN        NaN              NaN            NaN   \n",
       "2019-01-07            NaN  114975.98              NaN            NaN   \n",
       "2019-01-14            NaN  245382.83              NaN            NaN   \n",
       "2019-01-21            NaN  282671.93              NaN            NaN   \n",
       "2019-01-28            NaN  314060.29              NaN            NaN   \n",
       "...                   ...        ...              ...            ...   \n",
       "2022-12-05      -5.862140        NaN              NaN            NaN   \n",
       "2022-12-12      -0.782998        NaN              NaN            NaN   \n",
       "2022-12-19       2.266350        NaN              NaN            NaN   \n",
       "2022-12-26       1.950228        NaN              NaN            NaN   \n",
       "2023-01-02      -1.768203        NaN              NaN            NaN   \n",
       "\n",
       "            FUERA_MUESTRA_LEVELS  \n",
       "2018-12-31                   NaN  \n",
       "2019-01-07                   NaN  \n",
       "2019-01-14                   NaN  \n",
       "2019-01-21                   NaN  \n",
       "2019-01-28                   NaN  \n",
       "...                          ...  \n",
       "2022-12-05          6.140309e+06  \n",
       "2022-12-12          6.092230e+06  \n",
       "2022-12-19          6.230302e+06  \n",
       "2022-12-26          6.351807e+06  \n",
       "2023-01-02          6.239494e+06  \n",
       "\n",
       "[210 rows x 9 columns]"
      ]
     },
     "execution_count": 79,
     "metadata": {},
     "output_type": "execute_result"
    }
   ],
   "source": [
    "PREDICCIONES"
   ]
  },
  {
   "cell_type": "code",
   "execution_count": 81,
   "metadata": {},
   "outputs": [],
   "source": [
    "PREDICCIONES[\"MES\"] =  PREDICCIONES.index.strftime('%Y%m')\n",
    "metricas = [\"ONE_STEP_LEVELS\", \"N_STEP_LEVELS\"] \n",
    "\n",
    "# PREDICCIONES.to_excel(\"OUTPUT5_PREDICCIONES_NIVELES_SEMANAL.xlsx\")"
   ]
  },
  {
   "cell_type": "code",
   "execution_count": 87,
   "metadata": {},
   "outputs": [
    {
     "name": "stderr",
     "output_type": "stream",
     "text": [
      "<ipython-input-87-4769292cd01a>:1: FutureWarning: Indexing with multiple keys (implicitly converted to a tuple of keys) will be deprecated, use a list instead.\n",
      "  PRED_MENSUAL = PREDICCIONES.groupby(\"MES\")[\"NIVELES\", \"ONE_STEP_LEVELS\", \"N_STEP_LEVELS\", \"FUERA_MUESTRA_LEVELS\"].sum()\n"
     ]
    }
   ],
   "source": [
    "PRED_MENSUAL = PREDICCIONES.groupby(\"MES\")[\"NIVELES\", \"ONE_STEP_LEVELS\", \"N_STEP_LEVELS\", \"FUERA_MUESTRA_LEVELS\"].sum()\n",
    "PRED_MENSUAL.to_excel(\"OUTPUT6_PREDICCIONES_NIVELES_MENSUAL_K.xlsx\")"
   ]
  },
  {
   "cell_type": "markdown",
   "metadata": {},
   "source": [
    "#### 3.3 Métricas mes a mes"
   ]
  },
  {
   "cell_type": "code",
   "execution_count": 83,
   "metadata": {},
   "outputs": [],
   "source": [
    "from sklearn.metrics import mean_absolute_error as mae\n",
    "from sklearn.metrics import mean_absolute_percentage_error as mape\n",
    "from sklearn.metrics import mean_squared_error as mse"
   ]
  },
  {
   "cell_type": "code",
   "execution_count": 84,
   "metadata": {},
   "outputs": [],
   "source": [
    "tpredic = []\n",
    "tmes = []\n",
    "tmae = []\n",
    "tmape = []\n",
    "trmse = []\n",
    "tporcentaje = []\n",
    "\n",
    "for predi in metricas:\n",
    "    df_pred = PREDICCIONES[PREDICCIONES[predi].notna()][[predi, \"NIVELES\", \"MES\"]]\n",
    "    for mes in df_pred.MES.unique():\n",
    "        df_pred_mes = df_pred[df_pred.MES == mes]\n",
    "        MAE = mae(df_pred_mes.NIVELES\t, df_pred_mes[predi])\n",
    "        MAPE = mape(df_pred_mes.NIVELES\t, df_pred_mes[predi])\n",
    "        RMSE = np.sqrt(mse(df_pred_mes.NIVELES\t, df_pred_mes[predi]))\n",
    "        PORCENTAJE = (df_pred[df_pred.MES == mes][predi].sum()/df_pred[df_pred.MES == mes].NIVELES.sum())\n",
    "\n",
    "        tpredic.append(predi)\n",
    "        tmes.append(mes) \n",
    "        tmae.append(MAE) \n",
    "        tmape.append(MAPE)\n",
    "        trmse.append(RMSE)\n",
    "        tporcentaje.append(PORCENTAJE)"
   ]
  },
  {
   "cell_type": "code",
   "execution_count": 86,
   "metadata": {},
   "outputs": [],
   "source": [
    "METRICAS_MES = pd.DataFrame(zip(tpredic, tmes, tmae, tmape, trmse, tporcentaje),\n",
    "        columns =  [\"Predicción\", \"Mes\", \"MAE\", \"MAPE\", \"RMSE\", \"RAZÓN Yh/Yo\"])\n",
    "\n",
    "METRICAS_MES.to_excel(\"OUTPUTX_METRICAS_NIVELES_MESL_K.xlsx\")"
   ]
  },
  {
   "cell_type": "markdown",
   "metadata": {},
   "source": [
    "## 4. Función modelo"
   ]
  },
  {
   "cell_type": "code",
   "execution_count": 71,
   "metadata": {},
   "outputs": [
    {
     "name": "stderr",
     "output_type": "stream",
     "text": [
      "<ipython-input-71-839df13b66bb>:17: SettingWithCopyWarning: \n",
      "A value is trying to be set on a copy of a slice from a DataFrame.\n",
      "Try using .loc[row_indexer,col_indexer] = value instead\n",
      "\n",
      "See the caveats in the documentation: https://pandas.pydata.org/pandas-docs/stable/user_guide/indexing.html#returning-a-view-versus-a-copy\n",
      "  Yu['date_week'] = Yu.index.to_period('W')\n",
      "<ipython-input-71-839df13b66bb>:18: SettingWithCopyWarning: \n",
      "A value is trying to be set on a copy of a slice from a DataFrame.\n",
      "Try using .loc[row_indexer,col_indexer] = value instead\n",
      "\n",
      "See the caveats in the documentation: https://pandas.pydata.org/pandas-docs/stable/user_guide/indexing.html#returning-a-view-versus-a-copy\n",
      "  Yu['date_week'] = Yu['date_week'].apply(lambda x: x.start_time)\n"
     ]
    }
   ],
   "source": [
    "########## Parámetros\n",
    "data_input = \"OUTPUT4_FINALDB.xlsx\"\n",
    "date_column = \"date\"\n",
    "target_id = \"q\"\n",
    "\n",
    "########## Leer dataframe\n",
    "df = pd.read_excel(data_input) \n",
    "df[date_column] = pd.to_datetime(df[date_column])\n",
    "df.set_index(date_column, inplace=True)\n",
    "\n",
    "########## Dataframe univariado para el modelo\n",
    "dYu = df.copy()[[\"q\"]] # LLEVARNOS FESTIVOS\n",
    "dYu = dYu[dYu.q<3224477.37] #ELIMINAR OUTLIERS\n",
    "\n",
    "#SEMANA\n",
    "Yu = dYu.iloc[0:-1]\n",
    "Yu['date_week'] = Yu.index.to_period('W')\n",
    "Yu['date_week'] = Yu['date_week'].apply(lambda x: x.start_time)\n",
    "Yu_d = Yu.copy()\n",
    "number_days = Yu.groupby(\"date_week\").count().reset_index()\n",
    "number_days.set_index(\"date_week\", inplace=True)\n",
    "\n",
    "# number_days.columns = [\"date_week\", \"number_of_days\"]\n",
    "\n",
    "Yu = Yu.groupby(\"date_week\").sum().reset_index()\n",
    "# Yu = pd.merge(Yu, number_days, \"left\", \"date_week\")\n",
    "Yu.set_index(\"date_week\", inplace=True)\n",
    "\n",
    "#NUMERO DE DÍAS DE LA SEMANA + TRAER A NIVELES\n",
    "Q = Yu.iloc[:-1].copy() #DATAFRAME UTIL PARA MÁS TRAER A NIVELES\n",
    "\n",
    "#CAMBIO PORCENTIAL\n",
    "\n",
    "Yu = Yu.pct_change()*100\n",
    "Yu.loc[Yu[Yu.q>200].index[0], \"q\"] = 100\n",
    "Yu = Yu[(number_days.q>6)]\n",
    "# Yu = Yu.iloc[:-1]\n",
    "Yu = Yu.dropna()\n",
    "# Yu = Yu[[\"q\"]]"
   ]
  },
  {
   "cell_type": "code",
   "execution_count": 85,
   "metadata": {},
   "outputs": [],
   "source": [
    "\n",
    "def model_build(data_semanal):\n",
    "\n",
    "\n",
    "    # Parametros generales\n",
    "    data_semanal = data_semanal[[\"q\"]] # PRESERVE Y\n",
    "    train_size  = 0.96  # % TRAIN\n",
    "    # train_size  = 0.8  # % TRAIN\n",
    "    val_size    = 1 - train_size  # % VAL\n",
    "    n_lag       = 7     # LAGS\n",
    "    n_features  = data_semanal.shape[1]     # FEATURES -> SOLAMENTE UNO\n",
    "    MAX_EPOCHS  = 100    # EPOCAS\n",
    "    len_batch   = 1  # BATCHSIZE <--PREGUNTAR\n",
    "\n",
    "    #### SPLIT DATA\n",
    "    n = len(data_semanal)\n",
    "    train = data_semanal[0:int(n * train_size)] \n",
    "    val = data_semanal[int(n * train_size):int(n*(train_size + val_size))]\n",
    "    test = data_semanal[int(n*(train_size + val_size)):]\n",
    "\n",
    "\n",
    "    # ESTANDARIZAR\n",
    "    scaler_y = StandardScaler()\n",
    "    scaler_y.fit(train)\n",
    "    Ys_train = scaler_y.transform(train)\n",
    "    Ys_val = scaler_y.transform(val)\n",
    "    Ys_all = scaler_y.transform(data_semanal)\n",
    "\n",
    "\n",
    "    # UNIVARIATE SERIE\n",
    "    ts_trai_uni = TimeseriesGenerator(Ys_train, Ys_train, length=n_lag, batch_size=len_batch, shuffle= False)\n",
    "    ts_vali_uni = TimeseriesGenerator(Ys_val, Ys_val, length=n_lag, batch_size=len_batch, shuffle= False)\n",
    "    ts_all_uni = TimeseriesGenerator(Ys_all, Ys_all, length=n_lag, batch_size=len_batch, shuffle= False)\n",
    "\n",
    "\n",
    "    #### Parametros\n",
    "\n",
    "    max_lr, max_b1, max_b2, max_e = 0.00022387211385683378, 0.9, 0.9999, 1e-07\n",
    "\n",
    "    #Early stop\n",
    "    paciencia = 20\n",
    "    early_stopping = tf.keras.callbacks.EarlyStopping(monitor='val_loss', patience=paciencia, mode='min') #Early Stop\n",
    "\n",
    "    #Model parameters\n",
    "    perdida = tf.losses.MeanSquaredError()\n",
    "    metrica = [tf.metrics.MeanAbsoluteError(), tf.metrics.MeanAbsolutePercentageError(), tf.losses.MeanSquaredError()]\n",
    "\n",
    "    #Optimizer\n",
    "\n",
    "    param_opt = {\n",
    "        \"learning_rate\": max_lr,\n",
    "        \"beta_1\" : max_b1,\n",
    "        \"beta_2\" : max_b2,\n",
    "        \"epsilon\": max_e}\n",
    "\n",
    "    optimizer_adam = tf.optimizers.Adam()\n",
    "\n",
    "    #### Modelo \n",
    "    model = Sequential()\n",
    "    model.add(LSTM(64, activation='relu', input_shape=(n_lag, n_features), return_sequences= True))\n",
    "    model.add(LSTM(32, activation='relu', input_shape=(n_lag, n_features)))\n",
    "    model.add(Dense(30))\n",
    "    model.add(Dense(1))\n",
    "\n",
    "    model.compile(loss=tf.keras.losses.Huber(), \n",
    "            optimizer=optimizer_adam, \n",
    "            metrics=metrica)\n",
    "\n",
    "\n",
    "    #### Model building\n",
    "    history = model.fit(ts_trai_uni, \n",
    "        validation_data = ts_vali_uni,  \n",
    "        epochs=MAX_EPOCHS, \n",
    "        verbose=0,\n",
    "        callbacks = [])\n",
    "    \n",
    "    return model\n",
    "        "
   ]
  },
  {
   "cell_type": "code",
   "execution_count": 86,
   "metadata": {},
   "outputs": [],
   "source": [
    "modelo_usar = model_build(Yu)"
   ]
  },
  {
   "cell_type": "code",
   "execution_count": 11,
   "metadata": {},
   "outputs": [],
   "source": [
    "def pred(model, periodos_pred = 10):\n",
    "    Y_ph = Ys_all[-n_lag:] #FOOD INICIAL\n",
    "    Y_ph = Y_ph.reshape(n_features, n_lag, n_features)\n",
    "\n",
    "    week_1 = Yu.index[-1] + datetime.timedelta(days=7)\n",
    "    week_f = week_1 + datetime.timedelta(weeks=periodos_pred)\n",
    "    range_date = pd.date_range(start= week_1, end= week_f, freq = \"W-MON\")\n",
    "\n",
    "\n",
    "\n",
    "    for i in range(len(range_date)):\n",
    "        Y_pred = modelo_usar.predict(Y_ph[:, i : n_lag+i+1, :], verbose=0)\n",
    "        Y_ph = np.append(Y_ph, Y_pred).reshape(n_features, len(Y_ph[0])+1, n_features)\n",
    "\n",
    "    Y_ph = scaler_y.inverse_transform(Y_ph[0][n_lag:])\n",
    "\n",
    "\n",
    "    pronostico_variacion = Y_ph.reshape(len(Y_ph))\n",
    "    pronostico_niveles = [Q.iloc[-1][0]]\n",
    "\n",
    "    for i in range(len(pronostico_variacion)):\n",
    "        ynsetp = (pronostico_variacion[i]/100 + 1)*pronostico_niveles[i]\n",
    "        pronostico_niveles.append(ynsetp)\n",
    "        \n",
    "\n",
    "    pred_yph1 = pd.DataFrame(pronostico_niveles[1:], columns = [\"FUERA_MUESTRA\"], index = range_date)\n",
    "    return pred_yph1"
   ]
  },
  {
   "cell_type": "code",
   "execution_count": 12,
   "metadata": {},
   "outputs": [],
   "source": [
    "#RETORNAR JSON CON DOS ARREGLOS"
   ]
  },
  {
   "cell_type": "code",
   "execution_count": 13,
   "metadata": {},
   "outputs": [
    {
     "ename": "NameError",
     "evalue": "name 'modelo_usar' is not defined",
     "output_type": "error",
     "traceback": [
      "\u001b[1;31m---------------------------------------------------------------------------\u001b[0m",
      "\u001b[1;31mNameError\u001b[0m                                 Traceback (most recent call last)",
      "\u001b[1;32m<ipython-input-13-ddaffb80e317>\u001b[0m in \u001b[0;36m<module>\u001b[1;34m\u001b[0m\n\u001b[1;32m----> 1\u001b[1;33m \u001b[0mpred\u001b[0m\u001b[1;33m(\u001b[0m\u001b[0mmodelo_usar\u001b[0m\u001b[1;33m,\u001b[0m \u001b[1;36m30\u001b[0m\u001b[1;33m)\u001b[0m\u001b[1;33m\u001b[0m\u001b[1;33m\u001b[0m\u001b[0m\n\u001b[0m",
      "\u001b[1;31mNameError\u001b[0m: name 'modelo_usar' is not defined"
     ]
    }
   ],
   "source": [
    "pred(modelo_usar, 30)"
   ]
  },
  {
   "cell_type": "code",
   "execution_count": null,
   "metadata": {},
   "outputs": [],
   "source": []
  }
 ],
 "metadata": {
  "colab": {
   "collapsed_sections": [],
   "name": "LSTM Recaudo Fiscal Model",
   "provenance": []
  },
  "kernelspec": {
   "display_name": "base",
   "language": "python",
   "name": "python3"
  },
  "language_info": {
   "codemirror_mode": {
    "name": "ipython",
    "version": 3
   },
   "file_extension": ".py",
   "mimetype": "text/x-python",
   "name": "python",
   "nbconvert_exporter": "python",
   "pygments_lexer": "ipython3",
   "version": "3.8.5"
  },
  "vscode": {
   "interpreter": {
    "hash": "437525541fb0f4e5e2e84b26b01f2fd41cdb37c9515de6730f6553bc2db89f3e"
   }
  }
 },
 "nbformat": 4,
 "nbformat_minor": 1
}
